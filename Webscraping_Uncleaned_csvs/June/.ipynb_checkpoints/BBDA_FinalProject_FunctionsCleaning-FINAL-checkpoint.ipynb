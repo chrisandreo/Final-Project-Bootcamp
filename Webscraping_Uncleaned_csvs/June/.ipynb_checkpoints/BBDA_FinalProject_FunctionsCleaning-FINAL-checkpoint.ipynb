{
 "cells": [
  {
   "cell_type": "code",
   "execution_count": 1,
   "id": "e5412f30",
   "metadata": {},
   "outputs": [],
   "source": [
    "import pprint\n",
    "import pandas as pd\n",
    "import numpy as np\n",
    "import re\n",
    "import ast\n",
    "import warnings\n",
    "warnings.filterwarnings('ignore')"
   ]
  },
  {
   "cell_type": "markdown",
   "id": "929b0edc",
   "metadata": {},
   "source": [
    "# Price"
   ]
  },
  {
   "cell_type": "code",
   "execution_count": 2,
   "id": "d3b2084c",
   "metadata": {},
   "outputs": [],
   "source": [
    "# rates = {'€': 1, '£': 0.86, 'zł': 4.48, 'SAR': 4.01, \"'UZS': 12256.20\", \"'VND': 25120.40\", '¥': 150.03, 'US$': 1.07, 'MAD': 10.93,\n",
    "#          \"'MYR': 4.91\", '4.89': 1, 'PKR': 307.51, '₪': 3.9928904, 'CHF': 0.97, 'BZD': 2.17, 'HK$': 8.3801351, '₱': 60.0592, \n",
    "#          'DZD': 146.16, \"'Rp': 15901.44\", 'GTQ': 8.43, 'AED': 3.93, 'CAD': 1.44, 'NPR': 141.71, 'R$': 5.32, 'PEN': 3.97, \n",
    "#          'MXN': 18.79, \"'PYG': 7734.95\", 'AUD': 1.62, 'THB': 37.31, 'BDT': 115.48, 'XOF': 655.83, 'EGP': 33.03, 'TL': 22.68, \n",
    "#          'ZAR': 20.73, 'NOK': 11.85, 'MKD': 61.49, 'SEK': 11.64, 'UAH': 39.76, 'AMD': 415.06, 'DKK': 7.45, 'BOB': 7.44, \n",
    "#          'SCR': 14.13, \"'COP': 4516.99\", 'RUB': 86.86, '$': 1.07, '₹': 88.4, \"'HUF': 368.77\", 'DOP': 58.35, 'NGN': 494.81, \n",
    "#          \"'LAK': 19367.90\", 'KHR': 4415.98, 'CRC': 576, 'MDL': 19.09, 'KES': 148.79, 'TND': 3.31, \"'TZS': 2541.61\", 'MZN': 67.75, \n",
    "#          'lei': 4.97, 'AZN': 1.82, 'HNL': 26.48, 'KWD': 0.33, 'UYU': 41.58, 'XAF': 657.29, 'JOD': 0.76, 'ALL': 108.68, \n",
    "#          'BGN': 1.96, 'S$': 0.6917, 'BYN': 2.7, 'PAB': 1.07, 'NIO': 39.16, \"'KRW': 1393.32\", 'Kč': 23.52, 'LYD': 5.18, \n",
    "#          'RSD': 117.22, \"'MNT': 3726.17\", 'QAR': 3.9, 'TWD': 32.9}"
   ]
  },
  {
   "cell_type": "code",
   "execution_count": 3,
   "id": "4e0b6a6e",
   "metadata": {},
   "outputs": [],
   "source": [
    "# rates = {\"€\":1,\"£\":0.86,\"zł\":4.48,\"SAR\":4.01,\"UZS\":12.300,\"VND\":25.123,\"¥\":150.03,\"US$\":1.07,\"MAD\":10.93,\"MYR\":1,\"4.89\":1,\n",
    "#          \"PKR\":307.51,\"₪\":3.9928904,\"CHF\":0.97,\"BZD\":2.17,\"HK$\":8.3801351,\"₱\":60.0592,\"DZD\":146.16,\"Rp\":15.899,\"GTQ\":8.43,\n",
    "#          \"AED\":3.93,\"CAD\":1.44,\"NPR\":141.71,\"R$\":5.32,\"PEN\":3.97,\"MXN\":18.79,\"PYG\":7.793,\"AUD\":1.62,\"THB\":37.31,\"BDT\":115.48,\n",
    "#          \"XOF\":655.83,\"EGP\":33.03,\"TL\":22.68,\"ZAR\":20.73,\"NOK\":11.85,\"MKD\":61.49,\"SEK\":11.64,\"UAH\":39.76,\"AMD\":415.06,\"DKK\":7.45,\n",
    "#          \"BOB\":7.44,\"SCR\":14.13,\"COP\":4.652,\"RUB\":86.86,\"$\":1.07,\"₹\":88.40,\"HUF\":36910,\"DOP\":58.35,\"NGN\":494.81,\"LAK\":19.251}"
   ]
  },
  {
   "cell_type": "code",
   "execution_count": 4,
   "id": "5ce88ea5",
   "metadata": {},
   "outputs": [],
   "source": [
    "def price_cleaning_converting(df):\n",
    "    \n",
    "    # We used a proxi rotation API to scrape the data from the site,proxi uses different IP's in each request,\n",
    "    # each scrape had different price currency,made a dictionary with the unique values of df['signs'] column\n",
    "    #and their convert rate to euro (5 June 2023 convert rates).\n",
    "    rates = {'€': 1, '£': 0.86, 'zł': 4.48, 'SAR': 4.01, 'UZS': 12256.20, 'VND': 25120.40, '¥': 150.03, 'US$': 1.07, 'MAD': 10.93,\n",
    "         'MYR': 4.91, '4.89': 1, 'PKR': 307.51, '₪': 3.9928904, 'CHF': 0.97, 'BZD': 2.17, 'HK$': 8.3801351, '₱': 60.0592, \n",
    "         'DZD': 146.16, 'Rp': 15901.44, 'GTQ': 8.43, 'AED': 3.93, 'CAD': 1.44, 'NPR': 141.71, 'R$': 5.32, 'PEN': 3.97, \n",
    "         'MXN': 18.79, 'PYG': 7734.95, 'AUD': 1.62, 'THB': 37.31, 'BDT': 115.48, 'XOF': 655.83, 'EGP': 33.03, 'TL': 22.68, \n",
    "         'ZAR': 20.73, 'NOK': 11.85, 'MKD': 61.49, 'SEK': 11.64, 'UAH': 39.76, 'AMD': 415.06, 'DKK': 7.45, 'BOB': 7.44, \n",
    "         'SCR': 14.13, 'COP': 4516.99, 'RUB': 86.86, '$': 1.07, '₹': 88.4, 'HUF': 368.77, 'DOP': 58.35, 'NGN': 494.81, \n",
    "         'LAK': 19367.90, 'KHR': 4415.98, 'CRC': 576, 'MDL': 19.09, 'KES': 148.79, 'TND': 3.31, 'TZS': 2541.61, 'MZN': 67.75, \n",
    "         'lei': 4.97, 'AZN': 1.82, 'HNL': 26.48, 'KWD': 0.33, 'UYU': 41.58, 'XAF': 657.29, 'JOD': 0.76, 'ALL': 108.68, \n",
    "         'BGN': 1.96, 'S$': 0.6917, 'BYN': 2.7, 'PAB': 1.07, 'NIO': 39.16, 'KRW': 1393.32, 'Kč': 23.52, 'LYD': 5.18, \n",
    "         'RSD': 117.22, 'MNT': 3726.17, 'QAR': 3.9, 'TWD': 32.9, \"BAM\": 1.96, \"TTD\": 7.26, \"LKR\": 313.28, \"MUR\": 48.81, \"GEL\": 2.80,\n",
    "         \"OMR\": 0.41, \"JMD\": 166.05, \"IRR\": 45330.16, \"BHD\": 0.40, \"XCD\": 2.90}\n",
    "\n",
    "    #Cleaning\n",
    "    df['price'] = df['price'].replace(r\"<span class=\\\"bui-u-sr-only\\\">\\nOriginal price\\n\",\"\",regex=True)\n",
    "    df['price'] = df['price'].replace(r\"<span class=\\\"bui-u-sr-only\\\">\\n\",\"\",regex=True)\n",
    "    df[\"price\"]=df[\"price\"].replace(r\"\\n</span>\",\"\",regex=True)\n",
    "    df[\"price\"]=df[\"price\"].replace(\".*Current price\",\"\",regex=True)\n",
    "    df[\"price\"]=df[\"price\"].replace(\".*\\n\",\"\",regex=True)\n",
    "    df[\"signs\"] = df[\"price\"].replace(\"[\\d]\",\"\",regex=True)\n",
    "    df[\"signs\"] = df[\"signs\"].replace(\"[\\,\\\"]\",\"\",regex=True)\n",
    "    df[\"price_clean\"]=df[\"price\"].replace(\"[^\\d]\",\"\",regex=True)\n",
    "    \n",
    "    \n",
    "    # PREPROCCESS TO APPLY THE DICTIONARY AND CONVERT THE PRICES TO THE NEW COLUMN #\n",
    "    \n",
    "    #Fill the Nan in Signs column with the most frequent value\n",
    "    df[\"signs\"] = df[\"signs\"].fillna(df['signs'].value_counts().idxmax())\n",
    "    #Fill Nans in price\n",
    "    df[\"price_clean\"] = df[\"price_clean\"].fillna('0')\n",
    "    #Convert price to integer\n",
    "    df[\"price_clean\"] = df[\"price_clean\"].astype(\"int\")\n",
    "    #Replace unicode spaces in signs column with nothing\n",
    "    df['signs'] = df['signs'].str.replace('\\xa0', '')\n",
    "    #Strip\n",
    "    df[\"signs\"] = df['signs'].str.strip()\n",
    "    \n",
    "    #APPLY\n",
    "    #O KWDIKAS MEXRI TORA LITOURGEI EAN STO DICTIONARY_RATES YPARXOUN TA SYMBOLA TOY COLUMN SIGNS, ALLIOS PETAEI ERROR.MIPWS\n",
    "    #PREPEI NA KANOUME TRY?\n",
    "    df['amount_conv'] = df.apply(lambda x: x.price_clean / rates[x.signs], axis=1 )\n",
    "    \n",
    "    return df\n",
    "\n"
   ]
  },
  {
   "cell_type": "markdown",
   "id": "2839958e",
   "metadata": {},
   "source": [
    "# Reviews and Rating"
   ]
  },
  {
   "cell_type": "code",
   "execution_count": 5,
   "id": "e0b692ad",
   "metadata": {},
   "outputs": [],
   "source": [
    "#\"Reviews\" column Cleaning and creating two new columns for the corresponding values.\n",
    "\n",
    "def reviews_df(df):\n",
    "    df[\"TestRev\"] = df[\"reviews\"].replace(\"[A-Za-z]\",\"\", regex = True)\n",
    "    df[\"TestRev\"].str.split(\" \",1, expand = True)\n",
    "    df[[\"Rating\",\"NumReviews\"]] = df[\"TestRev\"].str.split(\" \",1, expand = True)\n",
    "    #df.drop(columns=[\"reviews\",\"TestRev\"],inplace = True)\n",
    "    \n",
    "    return df\n",
    "\n"
   ]
  },
  {
   "cell_type": "markdown",
   "id": "fdb7a79a",
   "metadata": {},
   "source": [
    "# Facilities"
   ]
  },
  {
   "cell_type": "code",
   "execution_count": 6,
   "id": "c976d9d9",
   "metadata": {},
   "outputs": [],
   "source": [
    "def facilities(df):\n",
    "    \n",
    "    #Create new list with all splitted values in each cell in facilities\n",
    "    \n",
    "    list_facilities = []\n",
    "    for lst in df['facilities']:\n",
    "        try:\n",
    "            for elem in lst.split(\",\"):\n",
    "                list_facilities.append(elem)\n",
    "            \n",
    "        except:\n",
    "            pass\n",
    "    \n",
    "    #make the list set\n",
    "    set_facilities = set(list_facilities)\n",
    "    \n",
    "    #Clean the special characters from the set\n",
    "    facilities_list = [re.sub(r\"[^\\w\\s]\", \"\", item) for item in set_facilities]\n",
    "    \n",
    "    #Convert to List Function\n",
    "    def convert_to_list(value):\n",
    "        try:\n",
    "            return ast.literal_eval(value)\n",
    "        except (SyntaxError, ValueError):\n",
    "            return np.nan\n",
    "    \n",
    "    #Convert the elements inside each cell in list.\n",
    "    df['facilities2'] = df['facilities'].apply(convert_to_list)\n",
    "    \n",
    "    df.dropna(subset = \"facilities2\",inplace=True)\n",
    "    \n",
    "    #Strip the elements inside each cell\n",
    "    df[\"facilities2\"] =df[\"facilities2\"].apply(lambda x: [element.strip()for element in x])\n",
    "    \n",
    "\n",
    "    #Pools, Airport shuttle, Breakfast, Family Rooms, Parking, Restaurant. New columns for these with boolean.\n",
    "    \n",
    "    df[\"Airport\"] = df[\"facilities2\"].apply(lambda x: any(re.search(r\"\\b[Aa]irport\\b\", elem) for elem in x))\n",
    "    df[\"Pool\"] = df[\"facilities2\"].apply(lambda x: any(re.search(r\"\\b[Pp]ool\\b\", elem) for elem in x))\n",
    "    df[\"Breakfast\"] = df[\"facilities2\"].apply(lambda x: any(re.search(r\"\\b[Bb]reakfast\\b\", elem) for elem in x))\n",
    "    df[\"Family_Rooms\"] = df[\"facilities2\"].apply(lambda x: any(re.search(r\"\\b[Ff]amily\\b\", elem) for elem in x))\n",
    "    df[\"Parking\"] = df[\"facilities2\"].apply(lambda x: any(re.search(r\"\\b[Pp]arking\\b\", elem) for elem in x))\n",
    "    df[\"Restaurant\"] = df[\"facilities2\"].apply(lambda x: any(re.search(r\"\\b[Rr]estaurant\\b\", elem) for elem in x))\n",
    "    \n",
    "    \n",
    "    return df  "
   ]
  },
  {
   "cell_type": "markdown",
   "id": "4d48e13e",
   "metadata": {},
   "source": [
    "# Size"
   ]
  },
  {
   "cell_type": "code",
   "execution_count": 7,
   "id": "eba3839e",
   "metadata": {},
   "outputs": [],
   "source": [
    "def clean_df_size(df):\n",
    "    df[[\"size_num\",\"size_meaus_unit\"]] = df['size'].str.split(\" \",2,expand=True)\n",
    "    df['Feet_num'] = df.size_num.loc[df.size_meaus_unit.eq('feet²')]\n",
    "    df['Feet_num'] = pd.to_numeric(df[\"Feet_num\"])\n",
    "    df[\"Feet_num\"] = df[\"Feet_num\"]//10.76391041671\n",
    "    df['M_num'] = df.size_num.loc[df.size_meaus_unit.eq('m²')]\n",
    "    df['M_num'] = pd.to_numeric(df[\"M_num\"])\n",
    "    # np.select and define list of condition with corresponding values\n",
    "    df['size_m2']=(np.select([df['size_meaus_unit'].eq('m²'), \n",
    "                         df['size_meaus_unit'].eq('feet²')],\n",
    "                        [df['M_num'],\n",
    "                         df['Feet_num']],\n",
    "                        np.nan)) \n",
    "    df.drop([\"size\",\"size_num\",\"size_meaus_unit\",\"Feet_num\",\"M_num\"],axis=1 ,inplace=True)\n",
    "    return df"
   ]
  },
  {
   "cell_type": "markdown",
   "id": "e5b0ead8",
   "metadata": {},
   "source": [
    "# Pets"
   ]
  },
  {
   "cell_type": "code",
   "execution_count": 8,
   "id": "8de9b532",
   "metadata": {},
   "outputs": [],
   "source": [
    "def Pets(df):\n",
    "    df[\"Pets\"] = df[\"rules\"].apply(lambda x: \"Pets are allowed\" in x)\n",
    "    return  df"
   ]
  },
  {
   "cell_type": "markdown",
   "id": "c324f9c1",
   "metadata": {},
   "source": [
    "### Start to clean the csvs"
   ]
  },
  {
   "cell_type": "code",
   "execution_count": 9,
   "id": "1d679266",
   "metadata": {},
   "outputs": [],
   "source": [
    "# df = pd.read_csv(\"crete_June_3_stars_0_50_150_200.csv\")\n",
    "# df1 = pd.read_csv(\"crete_June_3_stars_without_apartments.csv\")\n",
    "# df2 = pd.read_csv(\"crete_June_3stars_0_50_100.csv\")\n",
    "# df3 = pd.read_csv(\"Crete_June_4starApartment2.csv\")\n",
    "# df4 = pd.read_csv(\"CreteJune4_WithoutApartments.csv\")\n",
    "# df5 = pd.read_csv(\"CreteJune125.csv\")\n",
    "# df6 = pd.read_csv(\"CreteJuneUnrated.csv\")\n",
    "#lstdf = [df,df1,df2,df3,df4,df5,df6]"
   ]
  },
  {
   "cell_type": "code",
   "execution_count": 10,
   "id": "ce680598",
   "metadata": {},
   "outputs": [],
   "source": [
    "LefkadaJune = pd.read_csv(\"LefkadaJune.csv\")\n",
    "MykonosJune = pd.read_csv(\"MykonosJune.csv\")\n",
    "NaxosJune = pd.read_csv(\"NaxosJune.csv\")\n",
    "ParosJune = pd.read_csv(\"ParosJune.csv\")\n",
    "RhodesJune = pd.read_csv(\"RhodesJune.csv\")\n",
    "Samos_June = pd.read_csv(\"Samos_June.csv\")\n",
    "SantoriniJune = pd.read_csv(\"SantoriniJune.csv\")\n",
    "Tinos_June = pd.read_csv(\"Tinos_June.csv\")"
   ]
  },
  {
   "cell_type": "code",
   "execution_count": 11,
   "id": "34d81ebf",
   "metadata": {},
   "outputs": [],
   "source": [
    "#RhodesJune2"
   ]
  },
  {
   "cell_type": "code",
   "execution_count": 12,
   "id": "f8295176",
   "metadata": {},
   "outputs": [],
   "source": [
    "dicidf = {\"Lefkada\":LefkadaJune,\n",
    "         \"Mykonos\":MykonosJune,\n",
    "         \"Naxos\":NaxosJune,\n",
    "         \"Paros\":ParosJune,\n",
    "         \"Rhodes\":RhodesJune,\n",
    "         \"Samos\":Samos_June,\n",
    "         \"Santorini\":SantoriniJune,\n",
    "         \"Tinos\":Tinos_June}"
   ]
  },
  {
   "cell_type": "code",
   "execution_count": 13,
   "id": "28bb8295",
   "metadata": {},
   "outputs": [],
   "source": [
    "for name,d in dicidf.items():\n",
    "    d.dropna(subset=[\"rules\"],inplace = True)\n",
    "    d = price_cleaning_converting(d)\n",
    "    d = reviews_df(d)\n",
    "    d = facilities(d)\n",
    "    d = clean_df_size(d)\n",
    "    d = Pets(d)\n",
    "    try:\n",
    "        d.drop(columns=[\"link\"],inplace=True)\n",
    "    except:\n",
    "        pass\n",
    "    d.drop(columns = [\"facilities\",\"price\",\"rules\",\"signs\",\"price_clean\",\"facilities2\",\"reviews\",\"TestRev\"],inplace=True)\n",
    "    d[\"Month\"] = \"June\"\n",
    "    d[\"Location\"] = f\"{name}\"\n",
    "    d.to_csv(f\"{name}.csv\",index=False)"
   ]
  },
  {
   "cell_type": "code",
   "execution_count": null,
   "id": "f7ced462",
   "metadata": {},
   "outputs": [],
   "source": []
  }
 ],
 "metadata": {
  "kernelspec": {
   "display_name": "Python 3 (ipykernel)",
   "language": "python",
   "name": "python3"
  },
  "language_info": {
   "codemirror_mode": {
    "name": "ipython",
    "version": 3
   },
   "file_extension": ".py",
   "mimetype": "text/x-python",
   "name": "python",
   "nbconvert_exporter": "python",
   "pygments_lexer": "ipython3",
   "version": "3.10.9"
  }
 },
 "nbformat": 4,
 "nbformat_minor": 5
}
